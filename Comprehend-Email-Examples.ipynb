{
 "cells": [
  {
   "cell_type": "markdown",
   "metadata": {},
   "source": [
    "# Comprehend Email Demo"
   ]
  },
  {
   "cell_type": "markdown",
   "metadata": {},
   "source": [
    "#### Set up with some Dummy Emails\n",
    "In real life these would be ingested from a service or a storage location"
   ]
  },
  {
   "cell_type": "code",
   "execution_count": 1,
   "metadata": {},
   "outputs": [],
   "source": [
    "import json\n",
    "emails = [\n",
    "    \"\"\"\n",
    "    Hi Gillian, I just wanted to drop you a note and say great job yesterday!\n",
    "    \"\"\",\n",
    "    \"\"\"\n",
    "    Hey, \n",
    "    Can you come in early?\n",
    "    Thanks,\n",
    "    Dave\n",
    "    \"\"\",\n",
    "    \"\"\"\n",
    "    Hey Gillian,\n",
    "    I will need the documents you promised this morning. They are already late.\n",
    "    Best Regards,\n",
    "    Kevin\n",
    "    \"\"\",\n",
    "    \"\"\"\n",
    "    Hey! I'm go out to get coffee - do you want me to bring you back one?\n",
    "    \"\"\",\n",
    "    \"\"\"\n",
    "    I'm going to be late this morning - can you cover for me until I get there?\n",
    "    \"\"\",\n",
    "    \"\"\"\n",
    "    Hi Gillian,\n",
    "    We have a meeting with Jon and Kirsten later - can you see if Jenny wants to come too?\n",
    "    Thanks\n",
    "    Tom\n",
    "    \"\"\",\n",
    "    \"\"\"\n",
    "    Gillian - Looks like there was a major outage last night. It's been escalated, and we need to get on top of this really quickly.\n",
    "    \"\"\"\n",
    "]"
   ]
  },
  {
   "cell_type": "markdown",
   "metadata": {},
   "source": [
    "Python SDK for Comprehend at https://boto3.amazonaws.com/v1/documentation/api/latest/reference/services/comprehend.html\n",
    "\n",
    "Note that the SDKs are all available in multiple programming languages https://aws.amazon.com/tools/"
   ]
  },
  {
   "cell_type": "code",
   "execution_count": 2,
   "metadata": {},
   "outputs": [],
   "source": [
    "import boto3\n",
    "comprehend = boto3.client('comprehend')"
   ]
  },
  {
   "cell_type": "markdown",
   "metadata": {},
   "source": [
    "#### Detect Entity Example"
   ]
  },
  {
   "cell_type": "code",
   "execution_count": 3,
   "metadata": {},
   "outputs": [
    {
     "name": "stdout",
     "output_type": "stream",
     "text": [
      "\n",
      "    Hi Gillian, I just wanted to drop you a note and say great job yesterday!\n",
      "    \n",
      "{\n",
      "  \"Entities\": [\n",
      "    {\n",
      "      \"Score\": 0.9999855756759644,\n",
      "      \"Type\": \"PERSON\",\n",
      "      \"Text\": \"Gillian\",\n",
      "      \"BeginOffset\": 8,\n",
      "      \"EndOffset\": 15\n",
      "    },\n",
      "    {\n",
      "      \"Score\": 0.9998825788497925,\n",
      "      \"Type\": \"DATE\",\n",
      "      \"Text\": \"yesterday\",\n",
      "      \"BeginOffset\": 68,\n",
      "      \"EndOffset\": 77\n",
      "    }\n",
      "  ],\n",
      "  \"ResponseMetadata\": {\n",
      "    \"RequestId\": \"d2677731-f006-4800-b919-d1df33000de7\",\n",
      "    \"HTTPStatusCode\": 200,\n",
      "    \"HTTPHeaders\": {\n",
      "      \"x-amzn-requestid\": \"d2677731-f006-4800-b919-d1df33000de7\",\n",
      "      \"content-type\": \"application/x-amz-json-1.1\",\n",
      "      \"content-length\": \"201\",\n",
      "      \"date\": \"Thu, 23 Jul 2020 23:45:05 GMT\"\n",
      "    },\n",
      "    \"RetryAttempts\": 0\n",
      "  }\n",
      "}\n"
     ]
    }
   ],
   "source": [
    "print(emails[0])\n",
    "\n",
    "comprehend_entity_response = comprehend.detect_entities(\n",
    "    Text=emails[0], \n",
    "    LanguageCode='en')\n",
    "print(json.dumps(comprehend_entity_response, indent=2))"
   ]
  },
  {
   "cell_type": "markdown",
   "metadata": {},
   "source": [
    "#### Detect Sentiment Example"
   ]
  },
  {
   "cell_type": "code",
   "execution_count": 4,
   "metadata": {},
   "outputs": [
    {
     "name": "stdout",
     "output_type": "stream",
     "text": [
      "{\n",
      "  \"Sentiment\": \"POSITIVE\",\n",
      "  \"SentimentScore\": {\n",
      "    \"Positive\": 0.6899372935295105,\n",
      "    \"Negative\": 0.052835334092378616,\n",
      "    \"Neutral\": 0.257215678691864,\n",
      "    \"Mixed\": 1.1653065485006664e-05\n",
      "  },\n",
      "  \"ResponseMetadata\": {\n",
      "    \"RequestId\": \"0f6baba8-e496-4a3d-937f-096e0bea8093\",\n",
      "    \"HTTPStatusCode\": 200,\n",
      "    \"HTTPHeaders\": {\n",
      "      \"x-amzn-requestid\": \"0f6baba8-e496-4a3d-937f-096e0bea8093\",\n",
      "      \"content-type\": \"application/x-amz-json-1.1\",\n",
      "      \"content-length\": \"163\",\n",
      "      \"date\": \"Thu, 23 Jul 2020 23:47:05 GMT\"\n",
      "    },\n",
      "    \"RetryAttempts\": 0\n",
      "  }\n",
      "}\n"
     ]
    }
   ],
   "source": [
    "comprehend_sentiment_response = comprehend.detect_sentiment(\n",
    "    Text=emails[0], \n",
    "    LanguageCode='en')\n",
    "print(json.dumps(comprehend_sentiment_response, indent=2))   "
   ]
  },
  {
   "cell_type": "markdown",
   "metadata": {},
   "source": [
    "#### Detect Key Phrases Example"
   ]
  },
  {
   "cell_type": "code",
   "execution_count": 5,
   "metadata": {},
   "outputs": [
    {
     "name": "stdout",
     "output_type": "stream",
     "text": [
      "{\n",
      "  \"KeyPhrases\": [\n",
      "    {\n",
      "      \"Score\": 1.0,\n",
      "      \"Text\": \"Hi Gillian\",\n",
      "      \"BeginOffset\": 5,\n",
      "      \"EndOffset\": 15\n",
      "    },\n",
      "    {\n",
      "      \"Score\": 1.0,\n",
      "      \"Text\": \"a note\",\n",
      "      \"BeginOffset\": 43,\n",
      "      \"EndOffset\": 49\n",
      "    },\n",
      "    {\n",
      "      \"Score\": 1.0,\n",
      "      \"Text\": \"great job\",\n",
      "      \"BeginOffset\": 58,\n",
      "      \"EndOffset\": 67\n",
      "    },\n",
      "    {\n",
      "      \"Score\": 0.9999998807907104,\n",
      "      \"Text\": \"yesterday\",\n",
      "      \"BeginOffset\": 68,\n",
      "      \"EndOffset\": 77\n",
      "    }\n",
      "  ],\n",
      "  \"ResponseMetadata\": {\n",
      "    \"RequestId\": \"33e33761-e9b9-4ef1-896b-0c0b27bf1df8\",\n",
      "    \"HTTPStatusCode\": 200,\n",
      "    \"HTTPHeaders\": {\n",
      "      \"x-amzn-requestid\": \"33e33761-e9b9-4ef1-896b-0c0b27bf1df8\",\n",
      "      \"content-type\": \"application/x-amz-json-1.1\",\n",
      "      \"content-length\": \"288\",\n",
      "      \"date\": \"Thu, 23 Jul 2020 23:47:14 GMT\"\n",
      "    },\n",
      "    \"RetryAttempts\": 0\n",
      "  }\n",
      "}\n"
     ]
    }
   ],
   "source": [
    "comprehend_key_phrase_response = comprehend.detect_key_phrases(\n",
    "    Text=emails[0], \n",
    "    LanguageCode='en')\n",
    "print(json.dumps(comprehend_key_phrase_response, indent=2))   "
   ]
  },
  {
   "cell_type": "markdown",
   "metadata": {},
   "source": [
    "#### Loop over emails to compare them.\n",
    "Note that a Batch option is available, but here we are mimicking muliple real time calls because we would want to always be up to date on our emails and would trigger the calls real time."
   ]
  },
  {
   "cell_type": "code",
   "execution_count": 6,
   "metadata": {},
   "outputs": [
    {
     "name": "stdout",
     "output_type": "stream",
     "text": [
      "\n",
      "    Hi Gillian, I just wanted to drop you a note and say great job yesterday!\n",
      "    \n",
      "Sentiment - POSITIVE\n",
      "\n",
      "PERSON - Gillian\n",
      "DATE - yesterday\n",
      "\n",
      "Key Phrases:\n",
      "Hi Gillian\n",
      "a note\n",
      "great job\n",
      "yesterday\n",
      "\n",
      "------\n",
      "\n",
      "    Hey, \n",
      "    Can you come in early?\n",
      "    Thanks,\n",
      "    Dave\n",
      "    \n",
      "Sentiment - NEUTRAL\n",
      "\n",
      "PERSON - Dave\n",
      "\n",
      "Key Phrases:\n",
      "\n",
      "------\n",
      "\n",
      "    Hey Gillian,\n",
      "    I will need the documents you promised this morning. They are already late.\n",
      "    Best Regards,\n",
      "    Kevin\n",
      "    \n",
      "Sentiment - NEGATIVE\n",
      "\n",
      "PERSON - Gillian\n",
      "DATE - this morning\n",
      "PERSON - Kevin\n",
      "\n",
      "Key Phrases:\n",
      "the documents\n",
      "this morning\n",
      "Best Regards\n",
      "\n",
      "------\n",
      "\n",
      "    Hey! I'm go out to get coffee - do you want me to bring you back one?\n",
      "    \n",
      "Sentiment - NEUTRAL\n",
      "\n",
      "\n",
      "Key Phrases:\n",
      "coffee\n",
      "\n",
      "------\n",
      "\n",
      "    I'm going to be late this morning - can you cover for me until I get there?\n",
      "    \n",
      "Sentiment - NEUTRAL\n",
      "\n",
      "DATE - late this morning\n",
      "\n",
      "Key Phrases:\n",
      "late this morning\n",
      "\n",
      "------\n",
      "\n",
      "    Hi Gillian,\n",
      "    We have a meeting with Jon and Kirsten later - can you see if Jenny wants to come too?\n",
      "    Thanks\n",
      "    Tom\n",
      "    \n",
      "Sentiment - POSITIVE\n",
      "\n",
      "PERSON - Gillian\n",
      "PERSON - Jon\n",
      "PERSON - Kirsten\n",
      "PERSON - Jenny\n",
      "PERSON - Tom\n",
      "\n",
      "Key Phrases:\n",
      "Hi Gillian\n",
      "a meeting\n",
      "Jon and Kirsten\n",
      "Jenny\n",
      "\n",
      "------\n",
      "\n",
      "    Gillian - Looks like there was a major outage last night. It's been escalated, and we need to get on top of this really quickly.\n",
      "    \n",
      "Sentiment - NEGATIVE\n",
      "\n",
      "PERSON - Gillian\n",
      "DATE - last night\n",
      "\n",
      "Key Phrases:\n",
      "Gillian\n",
      "a major outage\n",
      "last night\n",
      "top\n",
      "\n",
      "------\n"
     ]
    }
   ],
   "source": [
    "email_insights = []\n",
    "\n",
    "for email in emails:\n",
    "    insight = {}\n",
    "    insight['email'] = email\n",
    "    print(email)\n",
    "    \n",
    "    ### Detect Entities\n",
    "    comprehend_entity_response = comprehend.detect_entities(\n",
    "        Text=email, \n",
    "        LanguageCode='en')\n",
    "    \n",
    "    ### Detect Sentiment\n",
    "    comprehend_sentiment_response = comprehend.detect_sentiment(\n",
    "        Text=email, \n",
    "        LanguageCode='en')\n",
    "    \n",
    "    ### Detect Key Phrases\n",
    "    comprehend_key_phrase_response = comprehend.detect_key_phrases(\n",
    "        Text=email, \n",
    "        LanguageCode='en')\n",
    "    \n",
    "    insight['sentiment'] = comprehend_sentiment_response['Sentiment']\n",
    "    print('Sentiment -',comprehend_sentiment_response['Sentiment'])\n",
    "    #print(comprehend_response['SentimentScore'])\n",
    "    print('')\n",
    "    \n",
    "    #print(comprehend_entity_response)\n",
    "    insight['entities'] = {}\n",
    "    for entity in comprehend_entity_response['Entities']:\n",
    "        if not entity['Type'] in insight['entities']: insight['entities'][entity['Type']] = []\n",
    "        insight['entities'][entity['Type']].append(entity['Text'])\n",
    "        print(entity['Type'], '-', entity['Text'])\n",
    "        \n",
    "        \n",
    "    print('')\n",
    "    \n",
    "    #print(comprehend_key_phrase_response)\n",
    "    print('Key Phrases:')\n",
    "    insight['keyPhrases'] = []\n",
    "    for phrase in comprehend_key_phrase_response['KeyPhrases']:\n",
    "        insight['keyPhrases'].append(phrase['Text'])\n",
    "        print(phrase['Text'])\n",
    "        \n",
    "    print('')\n",
    "    email_insights.append(insight)\n",
    "    print('------')"
   ]
  },
  {
   "cell_type": "code",
   "execution_count": 7,
   "metadata": {},
   "outputs": [
    {
     "name": "stdout",
     "output_type": "stream",
     "text": [
      "{\n",
      "  \"email\": \"\\n    Hi Gillian, I just wanted to drop you a note and say great job yesterday!\\n    \",\n",
      "  \"sentiment\": \"POSITIVE\",\n",
      "  \"entities\": {\n",
      "    \"PERSON\": [\n",
      "      \"Gillian\"\n",
      "    ],\n",
      "    \"DATE\": [\n",
      "      \"yesterday\"\n",
      "    ]\n",
      "  },\n",
      "  \"keyPhrases\": [\n",
      "    \"Hi Gillian\",\n",
      "    \"a note\",\n",
      "    \"great job\",\n",
      "    \"yesterday\"\n",
      "  ]\n",
      "}\n",
      "{\n",
      "  \"email\": \"\\n    Hey, \\n    Can you come in early?\\n    Thanks,\\n    Dave\\n    \",\n",
      "  \"sentiment\": \"NEUTRAL\",\n",
      "  \"entities\": {\n",
      "    \"PERSON\": [\n",
      "      \"Dave\"\n",
      "    ]\n",
      "  },\n",
      "  \"keyPhrases\": []\n",
      "}\n",
      "{\n",
      "  \"email\": \"\\n    Hey Gillian,\\n    I will need the documents you promised this morning. They are already late.\\n    Best Regards,\\n    Kevin\\n    \",\n",
      "  \"sentiment\": \"NEGATIVE\",\n",
      "  \"entities\": {\n",
      "    \"PERSON\": [\n",
      "      \"Gillian\",\n",
      "      \"Kevin\"\n",
      "    ],\n",
      "    \"DATE\": [\n",
      "      \"this morning\"\n",
      "    ]\n",
      "  },\n",
      "  \"keyPhrases\": [\n",
      "    \"the documents\",\n",
      "    \"this morning\",\n",
      "    \"Best Regards\"\n",
      "  ]\n",
      "}\n",
      "{\n",
      "  \"email\": \"\\n    Hey! I'm go out to get coffee - do you want me to bring you back one?\\n    \",\n",
      "  \"sentiment\": \"NEUTRAL\",\n",
      "  \"entities\": {},\n",
      "  \"keyPhrases\": [\n",
      "    \"coffee\"\n",
      "  ]\n",
      "}\n",
      "{\n",
      "  \"email\": \"\\n    I'm going to be late this morning - can you cover for me until I get there?\\n    \",\n",
      "  \"sentiment\": \"NEUTRAL\",\n",
      "  \"entities\": {\n",
      "    \"DATE\": [\n",
      "      \"late this morning\"\n",
      "    ]\n",
      "  },\n",
      "  \"keyPhrases\": [\n",
      "    \"late this morning\"\n",
      "  ]\n",
      "}\n",
      "{\n",
      "  \"email\": \"\\n    Hi Gillian,\\n    We have a meeting with Jon and Kirsten later - can you see if Jenny wants to come too?\\n    Thanks\\n    Tom\\n    \",\n",
      "  \"sentiment\": \"POSITIVE\",\n",
      "  \"entities\": {\n",
      "    \"PERSON\": [\n",
      "      \"Gillian\",\n",
      "      \"Jon\",\n",
      "      \"Kirsten\",\n",
      "      \"Jenny\",\n",
      "      \"Tom\"\n",
      "    ]\n",
      "  },\n",
      "  \"keyPhrases\": [\n",
      "    \"Hi Gillian\",\n",
      "    \"a meeting\",\n",
      "    \"Jon and Kirsten\",\n",
      "    \"Jenny\"\n",
      "  ]\n",
      "}\n",
      "{\n",
      "  \"email\": \"\\n    Gillian - Looks like there was a major outage last night. It's been escalated, and we need to get on top of this really quickly.\\n    \",\n",
      "  \"sentiment\": \"NEGATIVE\",\n",
      "  \"entities\": {\n",
      "    \"PERSON\": [\n",
      "      \"Gillian\"\n",
      "    ],\n",
      "    \"DATE\": [\n",
      "      \"last night\"\n",
      "    ]\n",
      "  },\n",
      "  \"keyPhrases\": [\n",
      "    \"Gillian\",\n",
      "    \"a major outage\",\n",
      "    \"last night\",\n",
      "    \"top\"\n",
      "  ]\n",
      "}\n"
     ]
    }
   ],
   "source": [
    "for insight in email_insights:\n",
    "    print(json.dumps(insight, indent=2))"
   ]
  },
  {
   "cell_type": "markdown",
   "metadata": {},
   "source": [
    "#### Check out the overall Sentiment"
   ]
  },
  {
   "cell_type": "code",
   "execution_count": 8,
   "metadata": {},
   "outputs": [
    {
     "name": "stdout",
     "output_type": "stream",
     "text": [
      "POSITIVE: 2\n",
      "NEGATIVE: 2\n",
      "NEUTRAL: 3\n"
     ]
    }
   ],
   "source": [
    "positive = list(filter(lambda x: (x['sentiment'] == 'POSITIVE'), email_insights))\n",
    "negative = list(filter(lambda x: (x['sentiment'] == 'NEGATIVE'), email_insights))\n",
    "neutral = list(filter(lambda x: (x['sentiment'] == 'NEUTRAL'), email_insights))\n",
    "\n",
    "print('POSITIVE:', len(positive))\n",
    "print('NEGATIVE:', len(negative))\n",
    "print('NEUTRAL:', len(neutral))"
   ]
  },
  {
   "cell_type": "markdown",
   "metadata": {},
   "source": [
    "#### Check out who is getting mentioned"
   ]
  },
  {
   "cell_type": "code",
   "execution_count": 9,
   "metadata": {},
   "outputs": [
    {
     "name": "stdout",
     "output_type": "stream",
     "text": [
      "People mentioned: {'Gillian', 'Jon', 'Dave', 'Kevin', 'Jenny', 'Tom', 'Kirsten'}\n"
     ]
    }
   ],
   "source": [
    "people_mentions = set()\n",
    "\n",
    "for insights in email_insights:\n",
    "    entities = insights['entities']\n",
    "    if 'PERSON' in entities:\n",
    "        for person in entities['PERSON']:\n",
    "            people_mentions.add(person)\n",
    "        \n",
    "print('People mentioned:', people_mentions)"
   ]
  },
  {
   "cell_type": "markdown",
   "metadata": {},
   "source": [
    "#### Search for a specific person being mentioned"
   ]
  },
  {
   "cell_type": "code",
   "execution_count": 10,
   "metadata": {},
   "outputs": [
    {
     "name": "stdout",
     "output_type": "stream",
     "text": [
      "Emails that mention Kevin\n",
      "\n",
      "    Hey Gillian,\n",
      "    I will need the documents you promised this morning. They are already late.\n",
      "    Best Regards,\n",
      "    Kevin\n",
      "    \n"
     ]
    }
   ],
   "source": [
    "person = 'Kevin'\n",
    "print('Emails that mention', person)\n",
    "for insights in email_insights:\n",
    "    entities = insights['entities']\n",
    "    if 'PERSON' in entities:\n",
    "        if person in entities['PERSON']:\n",
    "            print(insights['email'])"
   ]
  },
  {
   "cell_type": "code",
   "execution_count": null,
   "metadata": {},
   "outputs": [],
   "source": []
  }
 ],
 "metadata": {
  "kernelspec": {
   "display_name": "conda_python3",
   "language": "python",
   "name": "conda_python3"
  },
  "language_info": {
   "codemirror_mode": {
    "name": "ipython",
    "version": 3
   },
   "file_extension": ".py",
   "mimetype": "text/x-python",
   "name": "python",
   "nbconvert_exporter": "python",
   "pygments_lexer": "ipython3",
   "version": "3.6.10"
  }
 },
 "nbformat": 4,
 "nbformat_minor": 4
}
