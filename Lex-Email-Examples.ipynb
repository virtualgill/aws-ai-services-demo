{
 "cells": [
  {
   "cell_type": "markdown",
   "metadata": {},
   "source": [
    "#### Set up with some Dummy Emails\n",
    "In real life these would be ingested from a service or a storage location"
   ]
  },
  {
   "cell_type": "code",
   "execution_count": 3,
   "metadata": {},
   "outputs": [],
   "source": [
    "email_messages = [\n",
    "    \"\"\"\n",
    "    Hey, want me to grab you a drink on my way in this morning?\n",
    "    \"\"\",\n",
    "    \"\"\"\n",
    "    I'm going to be late this morning, can you take the 10 o'clock?\n",
    "    \"\"\",\n",
    "    \"\"\"\n",
    "    I'm going to the coffee shop, want anything?\n",
    "    \"\"\",\n",
    "    \"\"\"\n",
    "    Can you cover the meeting tomorrow? I have an appointment.\n",
    "    \"\"\"\n",
    "    ]\n",
    "\n",
    "negative = 2\n",
    "positive = 1"
   ]
  },
  {
   "cell_type": "markdown",
   "metadata": {},
   "source": [
    "Python SDK for Lex Runtime at https://boto3.amazonaws.com/v1/documentation/api/latest/reference/services/lex-runtime.html\n",
    "\n",
    "Note that the SDKs are all available in multiple programming languages https://aws.amazon.com/tools/"
   ]
  },
  {
   "cell_type": "code",
   "execution_count": 4,
   "metadata": {},
   "outputs": [],
   "source": [
    "import json\n",
    "import datetime\n",
    "import boto3\n",
    "lex = boto3.client('lex-runtime')"
   ]
  },
  {
   "cell_type": "markdown",
   "metadata": {},
   "source": [
    "#### Call Lex"
   ]
  },
  {
   "cell_type": "code",
   "execution_count": 5,
   "metadata": {},
   "outputs": [
    {
     "name": "stdout",
     "output_type": "stream",
     "text": [
      "{\n",
      "  \"ResponseMetadata\": {\n",
      "    \"RequestId\": \"03bc7677-2b5b-4dad-89ff-5ac04ba0fd0d\",\n",
      "    \"HTTPStatusCode\": 200,\n",
      "    \"HTTPHeaders\": {\n",
      "      \"x-amzn-requestid\": \"03bc7677-2b5b-4dad-89ff-5ac04ba0fd0d\",\n",
      "      \"date\": \"Thu, 23 Jul 2020 23:51:01 GMT\",\n",
      "      \"content-type\": \"application/json\",\n",
      "      \"content-length\": \"400\"\n",
      "    },\n",
      "    \"RetryAttempts\": 0\n",
      "  },\n",
      "  \"intentName\": \"GetCoffee\",\n",
      "  \"slots\": {},\n",
      "  \"sentimentResponse\": {\n",
      "    \"sentimentLabel\": \"NEUTRAL\",\n",
      "    \"sentimentScore\": \"{Positive: 0.13963953,Negative: 0.004401778,Neutral: 0.85589135,Mixed: 6.733458E-5}\"\n",
      "  },\n",
      "  \"dialogState\": \"ReadyForFulfillment\",\n",
      "  \"sessionId\": \"2020-07-23T23:50:58.691Z-IAhkyPAm\"\n",
      "}\n"
     ]
    }
   ],
   "source": [
    "email_intent = lex.post_text(\n",
    "    botName='auto_message_bot',\n",
    "    botAlias='test',\n",
    "    userId='123',\n",
    "    inputText=email_messages[0]\n",
    ")\n",
    "print(json.dumps(email_intent, indent=2))"
   ]
  },
  {
   "cell_type": "markdown",
   "metadata": {},
   "source": [
    "#### Loop through emails to determine Intent for each and take appropriate action"
   ]
  },
  {
   "cell_type": "code",
   "execution_count": 6,
   "metadata": {},
   "outputs": [
    {
     "name": "stdout",
     "output_type": "stream",
     "text": [
      "\n",
      "    Hey, want me to grab you a drink on my way in this morning?\n",
      "    \n",
      "GetCoffee\n",
      "Auto Reply: YESSS!!\n",
      "\n",
      "-------\n",
      "\n",
      "    I'm going to be late this morning, can you take the 10 o'clock?\n",
      "    \n",
      "CoverForMe\n",
      "Flag as Important\n",
      "\n",
      "-------\n",
      "\n",
      "    I'm going to the coffee shop, want anything?\n",
      "    \n",
      "GetCoffee\n",
      "Auto Reply: YESSS!!\n",
      "\n",
      "-------\n",
      "\n",
      "    Can you cover the meeting tomorrow? I have an appointment.\n",
      "    \n",
      "CoverForMe\n",
      "Flag as Important\n",
      "\n",
      "-------\n"
     ]
    }
   ],
   "source": [
    "for email in email_messages:\n",
    "    \n",
    "    print(email)\n",
    "    \n",
    "    email_intent = lex.post_text(\n",
    "        botName='auto_message_bot',\n",
    "        botAlias='test',\n",
    "        userId='123',\n",
    "        inputText=email\n",
    "    )\n",
    "    \n",
    "    print(email_intent['intentName'])\n",
    "    \n",
    "    if email_intent['intentName'] == 'GetCoffee':\n",
    "        # Set up an auto reply - we don't want to miss coffee!\n",
    "        print('Auto Reply: YESSS!!')\n",
    "    \n",
    "    elif email_intent['intentName'] == 'CoverForMe':\n",
    "        # Add to Insights gained from Comprehend\n",
    "        print('Flag as Important')\n",
    "\n",
    "\n",
    "    print('')\n",
    "    print('-------')"
   ]
  },
  {
   "cell_type": "markdown",
   "metadata": {},
   "source": [
    "#### Getting a little fancy - Customize Coffee Order based on overall sentiment of emails in mailbox "
   ]
  },
  {
   "cell_type": "code",
   "execution_count": 7,
   "metadata": {},
   "outputs": [
    {
     "name": "stdout",
     "output_type": "stream",
     "text": [
      "\n",
      "    Hey, want me to grab you a drink on my way in this morning?\n",
      "    \n",
      "GetCoffee\n",
      "Reply: YESSS!! An Americano with extra extra shots please!\n",
      "\n",
      "-------\n",
      "\n",
      "    I'm going to be late this morning, can you take the 10 o'clock?\n",
      "    \n",
      "CoverForMe\n",
      "Flag as Important\n",
      "\n",
      "-------\n",
      "\n",
      "    I'm going to the coffee shop, want anything?\n",
      "    \n",
      "GetCoffee\n",
      "Reply: YESSS!! An Americano with extra extra shots please!\n",
      "\n",
      "-------\n",
      "\n",
      "    Can you cover the meeting tomorrow? I have an appointment.\n",
      "    \n",
      "CoverForMe\n",
      "Flag as Important\n",
      "\n",
      "-------\n"
     ]
    }
   ],
   "source": [
    "for email in email_messages:\n",
    "    \n",
    "    print(email)\n",
    "    \n",
    "    email_intent = lex.post_text(\n",
    "        botName='auto_message_bot',\n",
    "        botAlias='test',\n",
    "        userId='123',\n",
    "        inputText=email\n",
    "    )\n",
    "    \n",
    "    print(email_intent['intentName'])\n",
    "    \n",
    "    if email_intent['intentName'] == 'GetCoffee':\n",
    "        # Set up an auto reply - we don't want to miss coffee!\n",
    "        # Get sentiment from insights from comprehend (mocked here)\n",
    "        if positive > negative:\n",
    "            # Chill morning\n",
    "            print('Reply: Yes, I would love a Green Tea!')\n",
    "        else:\n",
    "            # Need that extra boost!\n",
    "            print('Reply: YESSS!! An Americano with extra extra shots please!')\n",
    "    \n",
    "    elif email_intent['intentName'] == 'CoverForMe':\n",
    "        # Add to Insights gained from Comprehend\n",
    "        print('Flag as Important')\n",
    "\n",
    "\n",
    "    print('')\n",
    "    print('-------')"
   ]
  },
  {
   "cell_type": "markdown",
   "metadata": {},
   "source": [
    "#### Getting even fancier with Dates"
   ]
  },
  {
   "cell_type": "code",
   "execution_count": 8,
   "metadata": {},
   "outputs": [
    {
     "name": "stdout",
     "output_type": "stream",
     "text": [
      "\n",
      "    Hey, want me to grab you a drink on my way in this morning?\n",
      "    \n",
      "GetCoffee\n",
      "Reply: YESSS!! An Americano with extra extra shots please!\n",
      "\n",
      "-------\n",
      "\n",
      "    I'm going to be late this morning, can you take the 10 o'clock?\n",
      "    \n",
      "CoverForMe\n",
      "Flag as Important\n",
      "\n",
      "-------\n",
      "\n",
      "    I'm going to the coffee shop, want anything?\n",
      "    \n",
      "GetCoffee\n",
      "Reply: YESSS!! An Americano with extra extra shots please!\n",
      "\n",
      "-------\n",
      "\n",
      "    Can you cover the meeting tomorrow? I have an appointment.\n",
      "    \n",
      "CoverForMe\n",
      "//it can wait\n",
      "\n",
      "-------\n"
     ]
    }
   ],
   "source": [
    "for email in email_messages:\n",
    "    \n",
    "    print(email)\n",
    "    \n",
    "    email_intent = lex.post_text(\n",
    "        botName='auto_message_bot',\n",
    "        botAlias='test',\n",
    "        userId='123',\n",
    "        inputText=email\n",
    "    )\n",
    "    \n",
    "    print(email_intent['intentName'])\n",
    "    \n",
    "    if email_intent['intentName'] == 'GetCoffee':\n",
    "        # Set up an auto reply - we don't want to miss coffee!\n",
    "        # Get overall sentiment for all emails we have saved from earlier (mocked here)\n",
    "        if positive > negative:\n",
    "            # Chill morning\n",
    "            print('Reply: Yes, I would love a Green Tea!')\n",
    "        else:\n",
    "            # Need that extra boost!\n",
    "            print('Reply: YESSS!! An Americano with extra extra shots please!')\n",
    "    \n",
    "    elif email_intent['intentName'] == 'CoverForMe':\n",
    "        # We can check the date captured in the Lex Slot\n",
    "        cover_date_string = email_intent['slots']['date']\n",
    "        \n",
    "        if cover_date_string != None:\n",
    "            # Check if the date is today\n",
    "            cover_date = datetime.datetime.strptime(cover_date_string, \"%Y-%m-%d\")\n",
    "            today = datetime.datetime.now()\n",
    "            \n",
    "            if cover_date.date() == today.date():\n",
    "                # Add to Insights gained from Comprehend - make sure we see it right away\n",
    "                print('Flag as Important')\n",
    "                \n",
    "            else:\n",
    "                print('//it can wait')\n",
    "        else:\n",
    "            print('//it can wait')\n",
    "\n",
    "\n",
    "    print('')\n",
    "    print('-------')"
   ]
  },
  {
   "cell_type": "markdown",
   "metadata": {},
   "source": [
    "|￣￣￣￣￣￣|\n",
    "| PLS HELP,|\n",
    "|  NEED    |\n",
    "|  COFFEE! |\n",
    "|＿＿＿＿＿＿|\n",
    "(\\__/) ||\n",
    "(•ㅅ•) ||\n",
    "/ 　 づ"
   ]
  },
  {
   "cell_type": "code",
   "execution_count": null,
   "metadata": {},
   "outputs": [],
   "source": []
  }
 ],
 "metadata": {
  "kernelspec": {
   "display_name": "conda_python3",
   "language": "python",
   "name": "conda_python3"
  },
  "language_info": {
   "codemirror_mode": {
    "name": "ipython",
    "version": 3
   },
   "file_extension": ".py",
   "mimetype": "text/x-python",
   "name": "python",
   "nbconvert_exporter": "python",
   "pygments_lexer": "ipython3",
   "version": "3.6.10"
  }
 },
 "nbformat": 4,
 "nbformat_minor": 4
}
