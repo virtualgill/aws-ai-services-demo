{
 "cells": [
  {
   "cell_type": "markdown",
   "metadata": {},
   "source": [
    "# Lex Email Demo"
   ]
  },
  {
   "cell_type": "markdown",
   "metadata": {},
   "source": [
    "#### This notebook is set up to run on a SageMaker Notebook Instance. \n",
    "It requires the IAM Role attached to your SageMaker Notebook Instance to have Lex Permissions attached.\n",
    "\n",
    "Ensure you understand the pricing for Lex and SageMaker\n",
    "- https://aws.amazon.com/lex/pricing/\n",
    "- https://aws.amazon.com/sagemaker/pricing/"
   ]
  },
  {
   "cell_type": "markdown",
   "metadata": {},
   "source": [
    "#### This notebook requires you to have already set up your Lex Bot\n",
    "- Navigate to the Lex Console at https://console.aws.amazon.com/lex\n",
    "- Choose Actions -> Import\n",
    "- Upload coffee_and_cover_bot_Export.zip included in this repo\n",
    "- Select the Bot and click navigate to the Editor page\n",
    "- Select \"Build\"\n",
    "- Once built choose \"Publish\" and choose an alias of \"test\" (you can select a different name, but be sure to update the bot_alias used in this notebook)"
   ]
  },
  {
   "cell_type": "markdown",
   "metadata": {},
   "source": [
    "#### Pull in needed libraries"
   ]
  },
  {
   "cell_type": "markdown",
   "metadata": {},
   "source": [
    "Python SDK for Lex Runtime at https://boto3.amazonaws.com/v1/documentation/api/latest/reference/services/lex-runtime.html\n",
    "\n",
    "Note that the SDKs are all available in multiple programming languages https://aws.amazon.com/tools/"
   ]
  },
  {
   "cell_type": "code",
   "execution_count": 1,
   "metadata": {},
   "outputs": [],
   "source": [
    "import json\n",
    "import datetime\n",
    "import boto3\n",
    "lex = boto3.client('lex-runtime')"
   ]
  },
  {
   "cell_type": "markdown",
   "metadata": {},
   "source": [
    "#### Set up with some Dummy Emails\n",
    "In real life these would be ingested from a service or a storage location"
   ]
  },
  {
   "cell_type": "code",
   "execution_count": 2,
   "metadata": {},
   "outputs": [],
   "source": [
    "email_messages = [\n",
    "    \"\"\"\n",
    "    Hey, want me to grab you a drink on my way in this morning?\n",
    "    \"\"\",\n",
    "    \"\"\"\n",
    "    I'm going to be late this morning, can you take the 10 o'clock?\n",
    "    \"\"\",\n",
    "    \"\"\"\n",
    "    I'm going to the coffee shop, want anything?\n",
    "    \"\"\",\n",
    "    \"\"\"\n",
    "    Can you cover the meeting tomorrow? I have an appointment.\n",
    "    \"\"\"\n",
    "    ]\n",
    "\n",
    "negative = 2\n",
    "positive = 1"
   ]
  },
  {
   "cell_type": "markdown",
   "metadata": {},
   "source": [
    "#### Call Lex"
   ]
  },
  {
   "cell_type": "markdown",
   "metadata": {},
   "source": [
    "** If you have any issues running the below, ensure you have Set Up, Built and Published your Bot correctly."
   ]
  },
  {
   "cell_type": "code",
   "execution_count": 3,
   "metadata": {},
   "outputs": [],
   "source": [
    "bot_name = 'coffee_and_cover_bot'\n",
    "bot_alias = 'test' # you set this when you Publish the bot\n",
    "user_id = '123' # you will need to vary this if running at high scale, esp if you expect to hit a lot of missed intents"
   ]
  },
  {
   "cell_type": "code",
   "execution_count": 4,
   "metadata": {},
   "outputs": [
    {
     "name": "stdout",
     "output_type": "stream",
     "text": [
      "{\n",
      "  \"ResponseMetadata\": {\n",
      "    \"RequestId\": \"e7401648-209f-4b72-a7d9-e382f1edc608\",\n",
      "    \"HTTPStatusCode\": 200,\n",
      "    \"HTTPHeaders\": {\n",
      "      \"x-amzn-requestid\": \"e7401648-209f-4b72-a7d9-e382f1edc608\",\n",
      "      \"date\": \"Sat, 25 Jul 2020 17:31:02 GMT\",\n",
      "      \"content-type\": \"application/json\",\n",
      "      \"content-length\": \"273\"\n",
      "    },\n",
      "    \"RetryAttempts\": 0\n",
      "  },\n",
      "  \"intentName\": \"GetCoffee\",\n",
      "  \"slots\": {},\n",
      "  \"dialogState\": \"ReadyForFulfillment\",\n",
      "  \"sessionId\": \"2020-07-25T17:25:12.367Z-hYWAlmJf\"\n",
      "}\n"
     ]
    }
   ],
   "source": [
    "email_intent = lex.post_text(\n",
    "    botName=bot_name,\n",
    "    botAlias=bot_alias,\n",
    "    userId=user_id, \n",
    "    inputText=email_messages[0]\n",
    ")\n",
    "print(json.dumps(email_intent, indent=2))"
   ]
  },
  {
   "cell_type": "markdown",
   "metadata": {},
   "source": [
    "#### Loop through emails to determine Intent for each and take appropriate action"
   ]
  },
  {
   "cell_type": "code",
   "execution_count": 5,
   "metadata": {},
   "outputs": [
    {
     "name": "stdout",
     "output_type": "stream",
     "text": [
      "\n",
      "    Hey, want me to grab you a drink on my way in this morning?\n",
      "    \n",
      "GetCoffee\n",
      "Auto Reply: YESSS!!\n",
      "\n",
      "-------\n",
      "\n",
      "    I'm going to be late this morning, can you take the 10 o'clock?\n",
      "    \n",
      "CoverForMe\n",
      "Flag as Important\n",
      "\n",
      "-------\n",
      "\n",
      "    I'm going to the coffee shop, want anything?\n",
      "    \n",
      "GetCoffee\n",
      "Auto Reply: YESSS!!\n",
      "\n",
      "-------\n",
      "\n",
      "    Can you cover the meeting tomorrow? I have an appointment.\n",
      "    \n",
      "CoverForMe\n",
      "Flag as Important\n",
      "\n",
      "-------\n"
     ]
    }
   ],
   "source": [
    "for email in email_messages:\n",
    "    \n",
    "    print(email)\n",
    "    \n",
    "    email_intent = lex.post_text(\n",
    "        botName=bot_name,\n",
    "        botAlias=bot_alias,\n",
    "        userId=user_id, \n",
    "        inputText=email\n",
    "    )\n",
    "    \n",
    "    print(email_intent['intentName'])\n",
    "    \n",
    "    if email_intent['intentName'] == 'GetCoffee':\n",
    "        # Set up an auto reply - we don't want to miss coffee!\n",
    "        print('Auto Reply: YESSS!!')\n",
    "    \n",
    "    elif email_intent['intentName'] == 'CoverForMe':\n",
    "        # Add to Insights gained from Comprehend\n",
    "        print('Flag as Important')\n",
    "\n",
    "\n",
    "    print('')\n",
    "    print('-------')"
   ]
  },
  {
   "cell_type": "markdown",
   "metadata": {},
   "source": [
    "#### Getting a little fancy - Customize Coffee Order based on overall sentiment of emails in mailbox "
   ]
  },
  {
   "cell_type": "code",
   "execution_count": 6,
   "metadata": {},
   "outputs": [
    {
     "name": "stdout",
     "output_type": "stream",
     "text": [
      "\n",
      "    Hey, want me to grab you a drink on my way in this morning?\n",
      "    \n",
      "GetCoffee\n",
      "Reply: YESSS!! An Americano with extra extra shots please!\n",
      "\n",
      "-------\n",
      "\n",
      "    I'm going to be late this morning, can you take the 10 o'clock?\n",
      "    \n",
      "CoverForMe\n",
      "Flag as Important\n",
      "\n",
      "-------\n",
      "\n",
      "    I'm going to the coffee shop, want anything?\n",
      "    \n",
      "GetCoffee\n",
      "Reply: YESSS!! An Americano with extra extra shots please!\n",
      "\n",
      "-------\n",
      "\n",
      "    Can you cover the meeting tomorrow? I have an appointment.\n",
      "    \n",
      "CoverForMe\n",
      "Flag as Important\n",
      "\n",
      "-------\n"
     ]
    }
   ],
   "source": [
    "for email in email_messages:\n",
    "    \n",
    "    print(email)\n",
    "    \n",
    "    email_intent = lex.post_text(\n",
    "        botName=bot_name,\n",
    "        botAlias=bot_alias,\n",
    "        userId=user_id, \n",
    "        inputText=email\n",
    "    )\n",
    "    \n",
    "    print(email_intent['intentName'])\n",
    "    \n",
    "    if email_intent['intentName'] == 'GetCoffee':\n",
    "        # Set up an auto reply - we don't want to miss coffee!\n",
    "        # Get sentiment from insights from comprehend (mocked here)\n",
    "        if positive > negative:\n",
    "            # Chill morning\n",
    "            print('Reply: Yes, I would love a Green Tea!')\n",
    "        else:\n",
    "            # Need that extra boost!\n",
    "            print('Reply: YESSS!! An Americano with extra extra shots please!')\n",
    "    \n",
    "    elif email_intent['intentName'] == 'CoverForMe':\n",
    "        # Add to Insights gained from Comprehend\n",
    "        print('Flag as Important')\n",
    "\n",
    "\n",
    "    print('')\n",
    "    print('-------')"
   ]
  },
  {
   "cell_type": "markdown",
   "metadata": {},
   "source": [
    "#### Getting even fancier with Dates"
   ]
  },
  {
   "cell_type": "code",
   "execution_count": 7,
   "metadata": {},
   "outputs": [
    {
     "name": "stdout",
     "output_type": "stream",
     "text": [
      "\n",
      "    Hey, want me to grab you a drink on my way in this morning?\n",
      "    \n",
      "GetCoffee\n",
      "Reply: YESSS!! An Americano with extra extra shots please!\n",
      "\n",
      "-------\n",
      "\n",
      "    I'm going to be late this morning, can you take the 10 o'clock?\n",
      "    \n",
      "CoverForMe\n",
      "Flag as Important\n",
      "\n",
      "-------\n",
      "\n",
      "    I'm going to the coffee shop, want anything?\n",
      "    \n",
      "GetCoffee\n",
      "Reply: YESSS!! An Americano with extra extra shots please!\n",
      "\n",
      "-------\n",
      "\n",
      "    Can you cover the meeting tomorrow? I have an appointment.\n",
      "    \n",
      "CoverForMe\n",
      "//it can wait\n",
      "\n",
      "-------\n"
     ]
    }
   ],
   "source": [
    "for email in email_messages:\n",
    "    \n",
    "    print(email)\n",
    "    \n",
    "    email_intent = lex.post_text(\n",
    "        botName=bot_name,\n",
    "        botAlias=bot_alias,\n",
    "        userId=user_id, \n",
    "        inputText=email\n",
    "    )\n",
    "    \n",
    "    print(email_intent['intentName'])\n",
    "    \n",
    "    if email_intent['intentName'] == 'GetCoffee':\n",
    "        # Set up an auto reply - we don't want to miss coffee!\n",
    "        # Get overall sentiment for all emails we have saved from earlier (mocked here)\n",
    "        if positive > negative:\n",
    "            # Chill morning\n",
    "            print('Reply: Yes, I would love a Green Tea!')\n",
    "        else:\n",
    "            # Need that extra boost!\n",
    "            print('Reply: YESSS!! An Americano with extra extra shots please!')\n",
    "    \n",
    "    elif email_intent['intentName'] == 'CoverForMe':\n",
    "        # We can check the date captured in the Lex Slot\n",
    "        cover_date_string = email_intent['slots']['date']\n",
    "        \n",
    "        if cover_date_string != None:\n",
    "            # Check if the date is today\n",
    "            cover_date = datetime.datetime.strptime(cover_date_string, \"%Y-%m-%d\")\n",
    "            today = datetime.datetime.now()\n",
    "            \n",
    "            if cover_date.date() == today.date():\n",
    "                # Add to Insights gained from Comprehend - make sure we see it right away\n",
    "                print('Flag as Important')\n",
    "                \n",
    "            else:\n",
    "                print('//it can wait')\n",
    "        else:\n",
    "            print('//it can wait')\n",
    "\n",
    "\n",
    "    print('')\n",
    "    print('-------')"
   ]
  },
  {
   "cell_type": "markdown",
   "metadata": {},
   "source": [
    "#### Keep Exploring!"
   ]
  },
  {
   "cell_type": "markdown",
   "metadata": {},
   "source": [
    "|￣￣￣￣￣￣|  \n",
    "|&nbsp;&nbsp;&nbsp;&nbsp;WHAT'S &nbsp;&nbsp;&nbsp;|  \n",
    "|&nbsp;&nbsp;&nbsp;&nbsp;NEXT? &nbsp;&nbsp;&nbsp;&nbsp;&nbsp;|  \n",
    "|＿＿＿＿＿＿|  \n",
    "(\\\\__/) ||  \n",
    "(•ㅅ•) ||  \n",
    "/ 　 づ  \n",
    "\n",
    "\n",
    "This is just a few examples - check out the Lex Docs and try out some of the other features! \n",
    "https://docs.aws.amazon.com/lex/latest/dg/what-is.html\n",
    "\n",
    "Keep having fun, keep building... :)\n",
    "@virtualgill"
   ]
  }
 ],
 "metadata": {
  "kernelspec": {
   "display_name": "conda_python3",
   "language": "python",
   "name": "conda_python3"
  },
  "language_info": {
   "codemirror_mode": {
    "name": "ipython",
    "version": 3
   },
   "file_extension": ".py",
   "mimetype": "text/x-python",
   "name": "python",
   "nbconvert_exporter": "python",
   "pygments_lexer": "ipython3",
   "version": "3.6.10"
  }
 },
 "nbformat": 4,
 "nbformat_minor": 4
}
